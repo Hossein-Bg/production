{
 "cells": [
  {
   "cell_type": "markdown",
   "metadata": {},
   "source": [
    "# Working with parquet files\n",
    "\n",
    "## Objective\n",
    "\n",
    "+ In this assignment, we will use the data downloaded with the module `data_manager` to create features.\n",
    "\n",
    "(11 pts total)\n",
    "\n",
    "## Prerequisites\n",
    "\n",
    "+ This notebook assumes that price data is available to you in the environment variable `PRICE_DATA`. If you have not done so, then execute the notebook `01_materials/labs/2_data_engineering.ipynb` to create this data set.\n"
   ]
  },
  {
   "cell_type": "markdown",
   "metadata": {},
   "source": [
    "+ Load the environment variables using dotenv. (1 pt)"
   ]
  },
  {
   "cell_type": "code",
   "execution_count": 1,
   "metadata": {},
   "outputs": [],
   "source": [
    "# Write your code below.\n",
    "%load_ext dotenv\n",
    "%dotenv\n",
    "import os\n",
    "import sys\n",
    "sys.path.append(os.getenv('SRC_DIR'))\n",
    "from logger import get_logger\n",
    "_logs = get_logger(__name__)\n"
   ]
  },
  {
   "cell_type": "code",
   "execution_count": 2,
   "metadata": {},
   "outputs": [
    {
     "name": "stderr",
     "output_type": "stream",
     "text": [
      "c:\\Users\\Hossein-Bg\\anaconda3\\envs\\dsi_participant\\lib\\site-packages\\dask\\dataframe\\_pyarrow_compat.py:17: FutureWarning: Minimal version of pyarrow will soon be increased to 14.0.1. You are using 11.0.0. Please consider upgrading.\n",
      "  warnings.warn(\n",
      "C:\\Users\\Hossein-Bg\\AppData\\Local\\Temp\\ipykernel_11172\\676544213.py:1: DeprecationWarning: The current Dask DataFrame implementation is deprecated. \n",
      "In a future release, Dask DataFrame will use new implementation that\n",
      "contains several improvements including a logical query planning.\n",
      "The user-facing DataFrame API will remain unchanged.\n",
      "\n",
      "The new implementation is already available and can be enabled by\n",
      "installing the dask-expr library:\n",
      "\n",
      "    $ pip install dask-expr\n",
      "\n",
      "and turning the query planning option on:\n",
      "\n",
      "    >>> import dask\n",
      "    >>> dask.config.set({'dataframe.query-planning': True})\n",
      "    >>> import dask.dataframe as dd\n",
      "\n",
      "API documentation for the new implementation is available at\n",
      "https://docs.dask.org/en/stable/dask-expr-api.html\n",
      "\n",
      "Any feedback can be reported on the Dask issue tracker\n",
      "https://github.com/dask/dask/issues \n",
      "\n",
      "  import dask.dataframe as dd\n"
     ]
    }
   ],
   "source": [
    "import dask.dataframe as dd"
   ]
  },
  {
   "cell_type": "markdown",
   "metadata": {},
   "source": [
    "+ Load the environment variable `PRICE_DATA`.\n",
    "+ Use [glob](https://docs.python.org/3/library/glob.html) to find the path of all parquet files in the directory `PRICE_DATA`.\n",
    "\n",
    "(1pt)"
   ]
  },
  {
   "cell_type": "code",
   "execution_count": 3,
   "metadata": {},
   "outputs": [
    {
     "data": {
      "text/plain": [
       "'../../05_src/data/prices/'"
      ]
     },
     "execution_count": 3,
     "metadata": {},
     "output_type": "execute_result"
    }
   ],
   "source": [
    "import os\n",
    "from glob import glob\n",
    "\n",
    "# Write your code below.\n",
    "# Load environment variable for PRICE_DATA\n",
    "price_data_dir = os.getenv('PRICE_DATA')\n",
    "price_data_dir\n"
   ]
  },
  {
   "cell_type": "code",
   "execution_count": 4,
   "metadata": {},
   "outputs": [
    {
     "name": "stderr",
     "output_type": "stream",
     "text": [
      "c:\\Users\\Hossein-Bg\\anaconda3\\envs\\dsi_participant\\lib\\site-packages\\dask\\dataframe\\core.py:5517: UserWarning: New index has same name as existing, this is a no-op.\n",
      "  warnings.warn(\n"
     ]
    }
   ],
   "source": [
    "# Use glob to find all parquet files in the directory\n",
    "parquet_files = glob(os.path.join(price_data_dir,\"*/*/part.0.parquet\"))\n",
    "# parquet_files\n",
    "\n",
    "dd_px = dd.read_parquet(parquet_files).set_index(\"ticker\")"
   ]
  },
  {
   "cell_type": "markdown",
   "metadata": {},
   "source": [
    "For each ticker and using Dask, do the following:\n",
    "\n",
    "+ Add lags for variables Close and Adj_Close.\n",
    "+ Add returns based on Adjusted Close:\n",
    "    \n",
    "    - `returns`: (Adj Close / Adj Close_lag) - 1\n",
    "\n",
    "+ Add the following range: \n",
    "\n",
    "    - `hi_lo_range`: this is the day's High minus Low.\n",
    "\n",
    "+ Assign the result to `dd_feat`.\n",
    "\n",
    "(4 pt)"
   ]
  },
  {
   "cell_type": "code",
   "execution_count": 5,
   "metadata": {},
   "outputs": [
    {
     "name": "stderr",
     "output_type": "stream",
     "text": [
      "C:\\Users\\Hossein-Bg\\AppData\\Local\\Temp\\ipykernel_11172\\211774174.py:2: UserWarning: `meta` is not specified, inferred from partial data. Please provide `meta` if the result is unexpected.\n",
      "  Before: .apply(func)\n",
      "  After:  .apply(func, meta={'x': 'f8', 'y': 'f8'}) for dataframe result\n",
      "  or:     .apply(func, meta=('x', 'f8'))            for series result\n",
      "  dd_feat = (dd_px.groupby('ticker', group_keys=False)\n",
      "c:\\Users\\Hossein-Bg\\anaconda3\\envs\\dsi_participant\\lib\\site-packages\\pandas\\core\\frame.py:717: DeprecationWarning: Passing a BlockManager to DataFrame is deprecated and will raise in a future version. Use public APIs instead.\n",
      "  warnings.warn(\n"
     ]
    },
    {
     "name": "stdout",
     "output_type": "stream",
     "text": [
      "             Date    Open   High     Low   Close  Adj Close   Volume  \\\n",
      "ticker                                                                 \n",
      "HUM    2000-01-03  8.3125  8.375  7.3750  7.5625   6.771275  1287300   \n",
      "HUM    2000-01-04  7.3750  7.875  7.3750  7.6250   6.827235  1238300   \n",
      "HUM    2000-01-05  7.5000  7.875  7.5000  7.8125   6.995120  1096300   \n",
      "HUM    2000-01-06  7.7500  8.250  7.5000  8.1250   7.274925  1026700   \n",
      "HUM    2000-01-07  8.1875  9.125  8.0625  8.7500   7.834534  2419300   \n",
      "\n",
      "             sector            subsector  year  Close_lag_1  Adj_Close_lag_1  \\\n",
      "ticker                                                                         \n",
      "HUM     Health Care  Managed Health Care  2000          NaN              NaN   \n",
      "HUM     Health Care  Managed Health Care  2000       7.5625         6.771275   \n",
      "HUM     Health Care  Managed Health Care  2000       7.6250         6.827235   \n",
      "HUM     Health Care  Managed Health Care  2000       7.8125         6.995120   \n",
      "HUM     Health Care  Managed Health Care  2000       8.1250         7.274925   \n",
      "\n",
      "         returns  hi_lo_range  \n",
      "ticker                         \n",
      "HUM          NaN       1.0000  \n",
      "HUM     0.008264       0.5000  \n",
      "HUM     0.024590       0.3750  \n",
      "HUM     0.040000       0.7500  \n",
      "HUM     0.076923       1.0625  \n"
     ]
    }
   ],
   "source": [
    "# Write your code below.\n",
    "dd_feat = (dd_px.groupby('ticker', group_keys=False)\n",
    "           .apply(\n",
    "               lambda x: x.assign(\n",
    "                   Close_lag_1 = x['Close'].shift(1),\n",
    "                   Adj_Close_lag_1 = x['Adj Close'].shift(1)\n",
    "               )\n",
    "           )\n",
    "           .assign(\n",
    "               returns = lambda x: x['Adj Close'] / x['Adj_Close_lag_1'] - 1,\n",
    "               hi_lo_range = lambda x: x['High'] - x['Low']\n",
    "           )\n",
    ")\n",
    "\n",
    "print(dd_feat.head())"
   ]
  },
  {
   "cell_type": "markdown",
   "metadata": {},
   "source": [
    "+ Convert the Dask data frame to a pandas data frame. \n",
    "+ Add a rolling average return calculation with a window of 10 days.\n",
    "+ *Tip*: Consider using `.rolling(10).mean()`.\n",
    "\n",
    "(3 pt)"
   ]
  },
  {
   "cell_type": "code",
   "execution_count": 6,
   "metadata": {},
   "outputs": [
    {
     "name": "stderr",
     "output_type": "stream",
     "text": [
      "c:\\Users\\Hossein-Bg\\anaconda3\\envs\\dsi_participant\\lib\\site-packages\\pandas\\core\\frame.py:717: DeprecationWarning: Passing a BlockManager to DataFrame is deprecated and will raise in a future version. Use public APIs instead.\n",
      "  warnings.warn(\n"
     ]
    },
    {
     "name": "stdout",
     "output_type": "stream",
     "text": [
      "  ticker       Date    Open   High     Low   Close  Adj Close   Volume  \\\n",
      "0    HUM 2000-01-03  8.3125  8.375  7.3750  7.5625   6.771275  1287300   \n",
      "1    HUM 2000-01-04  7.3750  7.875  7.3750  7.6250   6.827235  1238300   \n",
      "2    HUM 2000-01-05  7.5000  7.875  7.5000  7.8125   6.995120  1096300   \n",
      "3    HUM 2000-01-06  7.7500  8.250  7.5000  8.1250   7.274925  1026700   \n",
      "4    HUM 2000-01-07  8.1875  9.125  8.0625  8.7500   7.834534  2419300   \n",
      "\n",
      "        sector            subsector  year  Close_lag_1  Adj_Close_lag_1  \\\n",
      "0  Health Care  Managed Health Care  2000          NaN              NaN   \n",
      "1  Health Care  Managed Health Care  2000       7.5625         6.771275   \n",
      "2  Health Care  Managed Health Care  2000       7.6250         6.827235   \n",
      "3  Health Care  Managed Health Care  2000       7.8125         6.995120   \n",
      "4  Health Care  Managed Health Care  2000       8.1250         7.274925   \n",
      "\n",
      "    returns  hi_lo_range  rolling_avg_return_10d  \n",
      "0       NaN       1.0000                     NaN  \n",
      "1  0.008264       0.5000                0.008264  \n",
      "2  0.024590       0.3750                0.016427  \n",
      "3  0.040000       0.7500                0.024285  \n",
      "4  0.076923       1.0625                0.037444  \n"
     ]
    }
   ],
   "source": [
    "# Write your code below.\n",
    "# Convert the Dask data frame to a pandas data frame\n",
    "pd_feat = dd_feat.compute()\n",
    "\n",
    "# Reset the index to ensure there are no duplicate labels during the groupby operation\n",
    "pd_feat = pd_feat.reset_index()\n",
    "\n",
    "# Add a rolling average return calculation with a window of 10 days, grouped by 'ticker'\n",
    "pd_feat['rolling_avg_return_10d'] = (\n",
    "    pd_feat.groupby('ticker')['returns']\n",
    "    .rolling(window=10, min_periods=1)\n",
    "    .mean()\n",
    "    .reset_index(level=0, drop=True)  # Drop the groupby index to align with the main DataFrame index\n",
    ")\n",
    "\n",
    "print(pd_feat.head())"
   ]
  },
  {
   "cell_type": "markdown",
   "metadata": {},
   "source": [
    "Please comment:\n",
    "\n",
    "+ Was it necessary to convert to pandas to calculate the moving average return?\n",
    "+ Would it have been better to do it in Dask? Why?\n",
    "\n",
    "(1 pt)"
   ]
  },
  {
   "cell_type": "markdown",
   "metadata": {},
   "source": [
    "Was it necessary to convert to pandas to calculate the moving average return?\n",
    "\n",
    "It was not strictly necessary to convert the Dask DataFrame to a Pandas DataFrame just to calculate the moving average return. Dask supports the .rolling() method, so you could have calculated the rolling average directly within the Dask DataFrame without converting it to Pandas."
   ]
  },
  {
   "cell_type": "markdown",
   "metadata": {},
   "source": [
    "Would it have been better to do it in Dask? Why?\n",
    "\n",
    "Yes, it would generally be better to do this in Dask if you are dealing with a large dataset that may not fit into memory. The main reason to stay in Dask for this calculation is its ability to handle larger-than-memory data by parallelizing operations and using lazy evaluation.\n",
    "By computing the rolling average directly in Dask, you avoid potential memory constraints when working with very large datasets. Converting to Pandas (.compute()) forces the entire DataFrame into memory, which can be problematic if it exceeds available RAM."
   ]
  },
  {
   "cell_type": "markdown",
   "metadata": {},
   "source": [
    "## Criteria\n",
    "\n",
    "The [rubric](./assignment_1_rubric_clean.xlsx) contains the criteria for grading."
   ]
  },
  {
   "cell_type": "markdown",
   "metadata": {},
   "source": [
    "## Submission Information\n",
    "\n",
    "🚨 **Please review our [Assignment Submission Guide](https://github.com/UofT-DSI/onboarding/blob/main/onboarding_documents/submissions.md)** 🚨 for detailed instructions on how to format, branch, and submit your work. Following these guidelines is crucial for your submissions to be evaluated correctly.\n",
    "\n",
    "### Submission Parameters:\n",
    "* Submission Due Date: `HH:MM AM/PM - DD/MM/YYYY`\n",
    "* The branch name for your repo should be: `assignment-1`\n",
    "* What to submit for this assignment:\n",
    "    * This Jupyter Notebook (assignment_1.ipynb) should be populated and should be the only change in your pull request.\n",
    "* What the pull request link should look like for this assignment: `https://github.com/<your_github_username>/production/pull/<pr_id>`\n",
    "    * Open a private window in your browser. Copy and paste the link to your pull request into the address bar. Make sure you can see your pull request properly. This helps the technical facilitator and learning support staff review your submission easily.\n",
    "\n",
    "Checklist:\n",
    "- [ ] Created a branch with the correct naming convention.\n",
    "- [ ] Ensured that the repository is public.\n",
    "- [ ] Reviewed the PR description guidelines and adhered to them.\n",
    "- [ ] Verify that the link is accessible in a private browser window.\n",
    "\n",
    "If you encounter any difficulties or have questions, please don't hesitate to reach out to our team via our Slack at `#cohort-3-help`. Our Technical Facilitators and Learning Support staff are here to help you navigate any challenges."
   ]
  }
 ],
 "metadata": {
  "kernelspec": {
   "display_name": "dsi_participant",
   "language": "python",
   "name": "python3"
  },
  "language_info": {
   "codemirror_mode": {
    "name": "ipython",
    "version": 3
   },
   "file_extension": ".py",
   "mimetype": "text/x-python",
   "name": "python",
   "nbconvert_exporter": "python",
   "pygments_lexer": "ipython3",
   "version": "3.9.15"
  }
 },
 "nbformat": 4,
 "nbformat_minor": 2
}
